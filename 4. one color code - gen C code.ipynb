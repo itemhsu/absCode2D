{
 "cells": [
  {
   "cell_type": "markdown",
   "id": "fafe8db8",
   "metadata": {},
   "source": [
    "### 載入模型"
   ]
  },
  {
   "cell_type": "code",
   "execution_count": 14,
   "id": "a21ea779",
   "metadata": {},
   "outputs": [],
   "source": [
    "import pickle\n",
    "\n",
    "# load the trained decision tree classifier from Pickle\n",
    "decision_tree_1_pkl_filename = 'decision_tree_1.pkl'\n",
    "# Open the file to load as pkl file\n",
    "with open(file=decision_tree_1_pkl_filename, mode='rb') as f:\n",
    "    decision_tree_1=pickle.load(f)\n",
    "    \n",
    "decision_tree_2_pkl_filename = 'decision_tree_2.pkl'\n",
    "# Open the file to load as pkl file\n",
    "with open(file=decision_tree_2_pkl_filename, mode='rb') as f:\n",
    "    decision_tree_2=pickle.load(f)\n"
   ]
  },
  {
   "cell_type": "markdown",
   "id": "c4b71333",
   "metadata": {},
   "source": [
    "### 產生C code"
   ]
  },
  {
   "cell_type": "code",
   "execution_count": 15,
   "id": "6dc23894",
   "metadata": {},
   "outputs": [],
   "source": [
    "from sklearn.tree import DecisionTreeClassifier, _tree\n",
    "\n",
    "def tree_to_code(tree, feature_names):\n",
    "    tree_ = tree.tree_\n",
    "    feature_name = [\n",
    "        feature_names[i] if i != _tree.TREE_UNDEFINED else \"undefined!\"\n",
    "        for i in tree_.feature\n",
    "    ]\n",
    "    \n",
    "    def recurse(node, depth):\n",
    "        indent = \"  \" * depth\n",
    "        if tree_.feature[node] != _tree.TREE_UNDEFINED:\n",
    "            name = feature_name[node]\n",
    "            #threshold = tree_.threshold[node]\n",
    "            threshold = np.round(tree_.threshold[node],decimals=4)\n",
    "            left_child = tree_.children_left[node]\n",
    "            right_child = tree_.children_right[node]\n",
    "            yield f\"{indent}if (X[{name}] <= {threshold}) {{\"\n",
    "            for line in recurse(left_child, depth + 1):\n",
    "                yield line\n",
    "            yield f\"{indent}}} else {{\"\n",
    "            for line in recurse(right_child, depth + 1):\n",
    "                yield line\n",
    "            yield f\"{indent}}}\"\n",
    "        else:\n",
    "            yield f\"{indent}return {np.round(tree_.value[node][0][0],decimals=3)};\"\n",
    "    \n",
    "    code = \"\\n\".join(recurse(0, 1))\n",
    "    return code\n",
    "\n",
    "def genC(my_tree, fName):\n",
    "    feature_names=['0','1','2','3','4','5','6','7','8','9',\n",
    "               '10','11','12','13','14','15','16','17','18','19',\n",
    "               '20','21','22','23','24','25','26','27','29','29']\n",
    "    code = tree_to_code(regr, feature_names)\n",
    "    with open(fName, \"w\") as f:\n",
    "        f.write(f'''\n",
    "#include <stdio.h>\n",
    "\n",
    "float predict(int X[]) {{\n",
    "{code}\n",
    "}}\n",
    "\n",
    "int main() {{\n",
    "  int X[] = {{1, 2, 3, 4}};\n",
    "  printf(\"Predicted class: %f\", predict(X));\n",
    "}}\n",
    "''')\n",
    "        \n",
    "genC(decision_tree_1,\"decision_tree_1.c\")\n",
    "genC(decision_tree_2,\"decision_tree_2.c\")\n"
   ]
  },
  {
   "cell_type": "code",
   "execution_count": null,
   "id": "2f0357d3",
   "metadata": {},
   "outputs": [],
   "source": []
  }
 ],
 "metadata": {
  "kernelspec": {
   "display_name": "conda_python3",
   "language": "python",
   "name": "conda_python3"
  },
  "language_info": {
   "codemirror_mode": {
    "name": "ipython",
    "version": 3
   },
   "file_extension": ".py",
   "mimetype": "text/x-python",
   "name": "python",
   "nbconvert_exporter": "python",
   "pygments_lexer": "ipython3",
   "version": "3.6.13"
  }
 },
 "nbformat": 4,
 "nbformat_minor": 5
}
