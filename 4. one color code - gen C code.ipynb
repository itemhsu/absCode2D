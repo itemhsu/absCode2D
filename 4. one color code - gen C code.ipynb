{
 "cells": [
  {
   "cell_type": "markdown",
   "id": "67a387f8",
   "metadata": {},
   "source": [
    "### 載入模型"
   ]
  },
  {
   "cell_type": "code",
   "execution_count": 1,
   "id": "7373141e",
   "metadata": {},
   "outputs": [
    {
     "name": "stderr",
     "output_type": "stream",
     "text": [
      "/home/ec2-user/anaconda3/envs/python3/lib/python3.6/site-packages/sklearn/base.py:315: UserWarning: Trying to unpickle estimator DecisionTreeRegressor from version 0.24.2 when using version 0.24.1. This might lead to breaking code or invalid results. Use at your own risk.\n",
      "  UserWarning)\n"
     ]
    }
   ],
   "source": [
    "import pickle\n",
    "\n",
    "# load the trained decision tree classifier from Pickle\n",
    "decision_tree_1_pkl_filename = 'decision_tree_1.pkl'\n",
    "# Open the file to load as pkl file\n",
    "with open(file=decision_tree_1_pkl_filename, mode='rb') as f:\n",
    "    decision_tree_1=pickle.load(f)\n",
    "    \n",
    "decision_tree_2_pkl_filename = 'decision_tree_2.pkl'\n",
    "# Open the file to load as pkl file\n",
    "with open(file=decision_tree_2_pkl_filename, mode='rb') as f:\n",
    "    decision_tree_2=pickle.load(f)\n"
   ]
  },
  {
   "cell_type": "markdown",
   "id": "b4972711",
   "metadata": {},
   "source": [
    "### 產生C code"
   ]
  },
  {
   "cell_type": "code",
   "execution_count": 2,
   "id": "69bf0861",
   "metadata": {},
   "outputs": [
    {
     "ename": "NameError",
     "evalue": "name 'np' is not defined",
     "output_type": "error",
     "traceback": [
      "\u001b[0;31m---------------------------------------------------------------------------\u001b[0m",
      "\u001b[0;31mNameError\u001b[0m                                 Traceback (most recent call last)",
      "\u001b[0;32m<ipython-input-2-b32a5b6caf23>\u001b[0m in \u001b[0;36m<module>\u001b[0;34m\u001b[0m\n\u001b[1;32m     48\u001b[0m ''')\n\u001b[1;32m     49\u001b[0m \u001b[0;34m\u001b[0m\u001b[0m\n\u001b[0;32m---> 50\u001b[0;31m \u001b[0mgenC\u001b[0m\u001b[0;34m(\u001b[0m\u001b[0mdecision_tree_1\u001b[0m\u001b[0;34m,\u001b[0m\u001b[0;34m\"decision_tree_1.c\"\u001b[0m\u001b[0;34m)\u001b[0m\u001b[0;34m\u001b[0m\u001b[0;34m\u001b[0m\u001b[0m\n\u001b[0m\u001b[1;32m     51\u001b[0m \u001b[0mgenC\u001b[0m\u001b[0;34m(\u001b[0m\u001b[0mdecision_tree_2\u001b[0m\u001b[0;34m,\u001b[0m\u001b[0;34m\"decision_tree_2.c\"\u001b[0m\u001b[0;34m)\u001b[0m\u001b[0;34m\u001b[0m\u001b[0;34m\u001b[0m\u001b[0m\n",
      "\u001b[0;32m<ipython-input-2-b32a5b6caf23>\u001b[0m in \u001b[0;36mgenC\u001b[0;34m(my_tree, fName)\u001b[0m\n\u001b[1;32m     33\u001b[0m                \u001b[0;34m'10'\u001b[0m\u001b[0;34m,\u001b[0m\u001b[0;34m'11'\u001b[0m\u001b[0;34m,\u001b[0m\u001b[0;34m'12'\u001b[0m\u001b[0;34m,\u001b[0m\u001b[0;34m'13'\u001b[0m\u001b[0;34m,\u001b[0m\u001b[0;34m'14'\u001b[0m\u001b[0;34m,\u001b[0m\u001b[0;34m'15'\u001b[0m\u001b[0;34m,\u001b[0m\u001b[0;34m'16'\u001b[0m\u001b[0;34m,\u001b[0m\u001b[0;34m'17'\u001b[0m\u001b[0;34m,\u001b[0m\u001b[0;34m'18'\u001b[0m\u001b[0;34m,\u001b[0m\u001b[0;34m'19'\u001b[0m\u001b[0;34m,\u001b[0m\u001b[0;34m\u001b[0m\u001b[0;34m\u001b[0m\u001b[0m\n\u001b[1;32m     34\u001b[0m                '20','21','22','23','24','25','26','27','29','29']\n\u001b[0;32m---> 35\u001b[0;31m     \u001b[0mcode\u001b[0m \u001b[0;34m=\u001b[0m \u001b[0mtree_to_code\u001b[0m\u001b[0;34m(\u001b[0m\u001b[0mmy_tree\u001b[0m\u001b[0;34m,\u001b[0m \u001b[0mfeature_names\u001b[0m\u001b[0;34m)\u001b[0m\u001b[0;34m\u001b[0m\u001b[0;34m\u001b[0m\u001b[0m\n\u001b[0m\u001b[1;32m     36\u001b[0m     \u001b[0;32mwith\u001b[0m \u001b[0mopen\u001b[0m\u001b[0;34m(\u001b[0m\u001b[0mfName\u001b[0m\u001b[0;34m,\u001b[0m \u001b[0;34m\"w\"\u001b[0m\u001b[0;34m)\u001b[0m \u001b[0;32mas\u001b[0m \u001b[0mf\u001b[0m\u001b[0;34m:\u001b[0m\u001b[0;34m\u001b[0m\u001b[0;34m\u001b[0m\u001b[0m\n\u001b[1;32m     37\u001b[0m         f.write(f'''\n",
      "\u001b[0;32m<ipython-input-2-b32a5b6caf23>\u001b[0m in \u001b[0;36mtree_to_code\u001b[0;34m(tree, feature_names)\u001b[0m\n\u001b[1;32m     26\u001b[0m             \u001b[0;32myield\u001b[0m \u001b[0;34mf\"{indent}return {np.round(tree_.value[node][0][0],decimals=3)};\"\u001b[0m\u001b[0;34m\u001b[0m\u001b[0;34m\u001b[0m\u001b[0m\n\u001b[1;32m     27\u001b[0m \u001b[0;34m\u001b[0m\u001b[0m\n\u001b[0;32m---> 28\u001b[0;31m     \u001b[0mcode\u001b[0m \u001b[0;34m=\u001b[0m \u001b[0;34m\"\\n\"\u001b[0m\u001b[0;34m.\u001b[0m\u001b[0mjoin\u001b[0m\u001b[0;34m(\u001b[0m\u001b[0mrecurse\u001b[0m\u001b[0;34m(\u001b[0m\u001b[0;36m0\u001b[0m\u001b[0;34m,\u001b[0m \u001b[0;36m1\u001b[0m\u001b[0;34m)\u001b[0m\u001b[0;34m)\u001b[0m\u001b[0;34m\u001b[0m\u001b[0;34m\u001b[0m\u001b[0m\n\u001b[0m\u001b[1;32m     29\u001b[0m     \u001b[0;32mreturn\u001b[0m \u001b[0mcode\u001b[0m\u001b[0;34m\u001b[0m\u001b[0;34m\u001b[0m\u001b[0m\n\u001b[1;32m     30\u001b[0m \u001b[0;34m\u001b[0m\u001b[0m\n",
      "\u001b[0;32m<ipython-input-2-b32a5b6caf23>\u001b[0m in \u001b[0;36mrecurse\u001b[0;34m(node, depth)\u001b[0m\n\u001b[1;32m     13\u001b[0m             \u001b[0mname\u001b[0m \u001b[0;34m=\u001b[0m \u001b[0mfeature_name\u001b[0m\u001b[0;34m[\u001b[0m\u001b[0mnode\u001b[0m\u001b[0;34m]\u001b[0m\u001b[0;34m\u001b[0m\u001b[0;34m\u001b[0m\u001b[0m\n\u001b[1;32m     14\u001b[0m             \u001b[0;31m#threshold = tree_.threshold[node]\u001b[0m\u001b[0;34m\u001b[0m\u001b[0;34m\u001b[0m\u001b[0;34m\u001b[0m\u001b[0m\n\u001b[0;32m---> 15\u001b[0;31m             \u001b[0mthreshold\u001b[0m \u001b[0;34m=\u001b[0m \u001b[0mnp\u001b[0m\u001b[0;34m.\u001b[0m\u001b[0mround\u001b[0m\u001b[0;34m(\u001b[0m\u001b[0mtree_\u001b[0m\u001b[0;34m.\u001b[0m\u001b[0mthreshold\u001b[0m\u001b[0;34m[\u001b[0m\u001b[0mnode\u001b[0m\u001b[0;34m]\u001b[0m\u001b[0;34m,\u001b[0m\u001b[0mdecimals\u001b[0m\u001b[0;34m=\u001b[0m\u001b[0;36m4\u001b[0m\u001b[0;34m)\u001b[0m\u001b[0;34m\u001b[0m\u001b[0;34m\u001b[0m\u001b[0m\n\u001b[0m\u001b[1;32m     16\u001b[0m             \u001b[0mleft_child\u001b[0m \u001b[0;34m=\u001b[0m \u001b[0mtree_\u001b[0m\u001b[0;34m.\u001b[0m\u001b[0mchildren_left\u001b[0m\u001b[0;34m[\u001b[0m\u001b[0mnode\u001b[0m\u001b[0;34m]\u001b[0m\u001b[0;34m\u001b[0m\u001b[0;34m\u001b[0m\u001b[0m\n\u001b[1;32m     17\u001b[0m             \u001b[0mright_child\u001b[0m \u001b[0;34m=\u001b[0m \u001b[0mtree_\u001b[0m\u001b[0;34m.\u001b[0m\u001b[0mchildren_right\u001b[0m\u001b[0;34m[\u001b[0m\u001b[0mnode\u001b[0m\u001b[0;34m]\u001b[0m\u001b[0;34m\u001b[0m\u001b[0;34m\u001b[0m\u001b[0m\n",
      "\u001b[0;31mNameError\u001b[0m: name 'np' is not defined"
     ]
    }
   ],
   "source": [
    "from sklearn.tree import DecisionTreeClassifier, _tree\n",
    "\n",
    "def tree_to_code(tree, feature_names):\n",
    "    tree_ = tree.tree_\n",
    "    feature_name = [\n",
    "        feature_names[i] if i != _tree.TREE_UNDEFINED else \"undefined!\"\n",
    "        for i in tree_.feature\n",
    "    ]\n",
    "    \n",
    "    def recurse(node, depth):\n",
    "        indent = \"  \" * depth\n",
    "        if tree_.feature[node] != _tree.TREE_UNDEFINED:\n",
    "            name = feature_name[node]\n",
    "            #threshold = tree_.threshold[node]\n",
    "            threshold = np.round(tree_.threshold[node],decimals=4)\n",
    "            left_child = tree_.children_left[node]\n",
    "            right_child = tree_.children_right[node]\n",
    "            yield f\"{indent}if (X[{name}] <= {threshold}) {{\"\n",
    "            for line in recurse(left_child, depth + 1):\n",
    "                yield line\n",
    "            yield f\"{indent}}} else {{\"\n",
    "            for line in recurse(right_child, depth + 1):\n",
    "                yield line\n",
    "            yield f\"{indent}}}\"\n",
    "        else:\n",
    "            yield f\"{indent}return {np.round(tree_.value[node][0][0],decimals=3)};\"\n",
    "    \n",
    "    code = \"\\n\".join(recurse(0, 1))\n",
    "    return code\n",
    "\n",
    "def genC(my_tree, fName):\n",
    "    feature_names=['0','1','2','3','4','5','6','7','8','9',\n",
    "               '10','11','12','13','14','15','16','17','18','19',\n",
    "               '20','21','22','23','24','25','26','27','29','29']\n",
    "    code = tree_to_code(my_tree, feature_names)\n",
    "    with open(fName, \"w\") as f:\n",
    "        f.write(f'''\n",
    "#include <stdio.h>\n",
    "\n",
    "float predict(int X[]) {{\n",
    "{code}\n",
    "}}\n",
    "\n",
    "int main() {{\n",
    "  int X[] = {{1, 2, 3, 4}};\n",
    "  printf(\"Predicted class: %f\", predict(X));\n",
    "}}\n",
    "''')\n",
    "        \n",
    "genC(decision_tree_1,\"decision_tree_1.c\")\n",
    "genC(decision_tree_2,\"decision_tree_2.c\")\n"
   ]
  },
  {
   "cell_type": "code",
   "execution_count": null,
   "id": "c1970dc8",
   "metadata": {},
   "outputs": [],
   "source": []
  }
 ],
 "metadata": {
  "kernelspec": {
   "display_name": "conda_python3",
   "language": "python",
   "name": "conda_python3"
  },
  "language_info": {
   "codemirror_mode": {
    "name": "ipython",
    "version": 3
   },
   "file_extension": ".py",
   "mimetype": "text/x-python",
   "name": "python",
   "nbconvert_exporter": "python",
   "pygments_lexer": "ipython3",
   "version": "3.6.13"
  }
 },
 "nbformat": 4,
 "nbformat_minor": 5
}
