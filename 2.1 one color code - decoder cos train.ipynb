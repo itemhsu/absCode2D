{
 "cells": [
  {
   "cell_type": "code",
   "execution_count": 101,
   "id": "d95ce871",
   "metadata": {},
   "outputs": [],
   "source": [
    "#!pip install xgboost  "
   ]
  },
  {
   "cell_type": "markdown",
   "id": "16d1a9b6",
   "metadata": {},
   "source": [
    "### 載入訓練數據"
   ]
  },
  {
   "cell_type": "code",
   "execution_count": 102,
   "id": "db8eaceb",
   "metadata": {},
   "outputs": [
    {
     "data": {
      "text/plain": [
       "0    1.000000\n",
       "1    0.999391\n",
       "2    0.997564\n",
       "3    0.994522\n",
       "4    0.990268\n",
       "Name: 0, dtype: float64"
      ]
     },
     "execution_count": 102,
     "metadata": {},
     "output_type": "execute_result"
    }
   ],
   "source": [
    "import pandas as pd\n",
    "import numpy as np\n",
    "\n",
    "def cos_transform(x):\n",
    "    return np.cos(x/90*np.pi)\n",
    "\n",
    "df = pd.read_csv(\"s_result_all_1000.csv\", index_col=0)\n",
    "X = df.drop(['0','1','7','13', '14', '15', '16', '17', '18', '19', '20', '21', '22', '23', '24'],axis='columns')     # 設置輸入變量\n",
    "Y = df.loc[:, '0'].apply(cos_transform)\n",
    "Y.head()"
   ]
  },
  {
   "cell_type": "markdown",
   "id": "62a7934f",
   "metadata": {},
   "source": [
    "### 訓練模型"
   ]
  },
  {
   "cell_type": "code",
   "execution_count": 103,
   "id": "6598ded9",
   "metadata": {},
   "outputs": [
    {
     "data": {
      "text/plain": [
       "DecisionTreeRegressor(max_depth=10)"
      ]
     },
     "execution_count": 103,
     "metadata": {},
     "output_type": "execute_result"
    }
   ],
   "source": [
    "from sklearn.tree import DecisionTreeRegressor\n",
    "from sklearn.ensemble import RandomForestRegressor\n",
    "from sklearn.ensemble import GradientBoostingRegressor\n",
    "from sklearn.ensemble import GradientBoostingClassifier\n",
    "regr = DecisionTreeRegressor(max_depth=10) #6MB\n",
    "#regr = RandomForestRegressor(max_depth=10, n_estimators=2) #155MB\n",
    "\n",
    "#regr = GradientBoostingRegressor(learning_rate= 0.2,max_depth=10,subsample=0.7,n_estimators=10)#1.2MB\n",
    "#regr = GradientBoostingClassifier(learning_rate= 0.2,max_depth=6,subsample=0.7,n_estimators=20)#170kB\n",
    "\n",
    "regr.fit(X, Y)"
   ]
  },
  {
   "cell_type": "markdown",
   "id": "9b109dd4",
   "metadata": {},
   "source": [
    "### 保存模型"
   ]
  },
  {
   "cell_type": "code",
   "execution_count": 104,
   "id": "d3cdf9c7",
   "metadata": {},
   "outputs": [],
   "source": [
    "import pickle\n",
    "\n",
    "# Dump the trained decision tree classifier with Pickle\n",
    "decision_tree_pkl_filename = 'decision_tree_1.pkl'\n",
    "# Open the file to save as pkl file\n",
    "decision_tree_model_pkl = open(decision_tree_pkl_filename, 'wb')\n",
    "pickle.dump(regr, decision_tree_model_pkl)\n",
    "# Close the pickle instances\n",
    "decision_tree_model_pkl.close()\n"
   ]
  },
  {
   "cell_type": "code",
   "execution_count": 105,
   "id": "fa43902a",
   "metadata": {},
   "outputs": [
    {
     "data": {
      "text/plain": [
       "[<matplotlib.lines.Line2D at 0x7fe3bc640cc0>]"
      ]
     },
     "execution_count": 105,
     "metadata": {},
     "output_type": "execute_result"
    },
    {
     "data": {
      "image/png": "[encoded data removed]",
      "text/plain": [
       "<Figure size 432x288 with 1 Axes>"
      ]
     },
     "metadata": {
      "needs_background": "light"
     },
     "output_type": "display_data"
    }
   ],
   "source": [
    "import numpy as np\n",
    "import matplotlib.pyplot as plt\n",
    "import numpy as np\n",
    "#print(np.around(regr_y_result))\n",
    "plt.plot(Y[5:174])\n"
   ]
  },
  {
   "cell_type": "code",
   "execution_count": null,
   "id": "1b96a701",
   "metadata": {},
   "outputs": [],
   "source": []
  }
 ],
 "metadata": {
  "kernelspec": {
   "display_name": "conda_python3",
   "language": "python",
   "name": "conda_python3"
  },
  "language_info": {
   "codemirror_mode": {
    "name": "ipython",
    "version": 3
   },
   "file_extension": ".py",
   "mimetype": "text/x-python",
   "name": "python",
   "nbconvert_exporter": "python",
   "pygments_lexer": "ipython3",
   "version": "3.6.13"
  }
 },
 "nbformat": 4,
 "nbformat_minor": 5
}
