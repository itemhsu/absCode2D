{
 "cells": [
  {
   "cell_type": "markdown",
   "id": "fc7c7a16",
   "metadata": {},
   "source": [
    "### 載入訓練數據"
   ]
  },
  {
   "cell_type": "code",
   "execution_count": 10,
   "id": "d79a1884",
   "metadata": {},
   "outputs": [],
   "source": [
    "import pandas as pd\n",
    "df = pd.read_csv(\"s_result_all_1000.csv\", index_col=0)\n",
    "X = df.drop('0',axis='columns')     # 設置輸入變量\n",
    "Y = df.loc[:, '0']"
   ]
  },
  {
   "cell_type": "markdown",
   "id": "c3ee7e1d",
   "metadata": {},
   "source": [
    "### 訓練模型"
   ]
  },
  {
   "cell_type": "code",
   "execution_count": 11,
   "id": "ecb9f32a",
   "metadata": {},
   "outputs": [
    {
     "data": {
      "text/plain": [
       "DecisionTreeRegressor(max_depth=20)"
      ]
     },
     "execution_count": 11,
     "metadata": {},
     "output_type": "execute_result"
    }
   ],
   "source": [
    "from sklearn.tree import DecisionTreeRegressor\n",
    "regr = DecisionTreeRegressor(max_depth=20)\n",
    "regr.fit(X, Y)"
   ]
  },
  {
   "cell_type": "markdown",
   "id": "fae01f93",
   "metadata": {},
   "source": [
    "### 保存模型"
   ]
  },
  {
   "cell_type": "code",
   "execution_count": 12,
   "id": "f4187f83",
   "metadata": {},
   "outputs": [],
   "source": [
    "import pickle\n",
    "\n",
    "# Dump the trained decision tree classifier with Pickle\n",
    "decision_tree_pkl_filename = 'decision_tree.pkl'\n",
    "# Open the file to save as pkl file\n",
    "decision_tree_model_pkl = open(decision_tree_pkl_filename, 'wb')\n",
    "pickle.dump(regr, decision_tree_model_pkl)\n",
    "# Close the pickle instances\n",
    "decision_tree_model_pkl.close()\n"
   ]
  }
 ],
 "metadata": {
  "kernelspec": {
   "display_name": "conda_python3",
   "language": "python",
   "name": "conda_python3"
  },
  "language_info": {
   "codemirror_mode": {
    "name": "ipython",
    "version": 3
   },
   "file_extension": ".py",
   "mimetype": "text/x-python",
   "name": "python",
   "nbconvert_exporter": "python",
   "pygments_lexer": "ipython3",
   "version": "3.6.13"
  }
 },
 "nbformat": 4,
 "nbformat_minor": 5
}
