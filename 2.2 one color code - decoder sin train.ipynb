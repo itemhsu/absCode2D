{
 "cells": [
  {
   "cell_type": "code",
   "execution_count": 38,
   "id": "21483038",
   "metadata": {},
   "outputs": [],
   "source": [
    "#!pip install xgboost  "
   ]
  },
  {
   "cell_type": "markdown",
   "id": "1861cffa",
   "metadata": {},
   "source": [
    "### 載入訓練數據"
   ]
  },
  {
   "cell_type": "code",
   "execution_count": 39,
   "id": "4d69b0a2",
   "metadata": {},
   "outputs": [
    {
     "data": {
      "text/plain": [
       "0    0.000000\n",
       "1    0.034899\n",
       "2    0.069756\n",
       "3    0.104528\n",
       "4    0.139173\n",
       "Name: 0, dtype: float64"
      ]
     },
     "execution_count": 39,
     "metadata": {},
     "output_type": "execute_result"
    }
   ],
   "source": [
    "import pandas as pd\n",
    "import numpy as np\n",
    "\n",
    "def sin_transform(x):\n",
    "    return np.sin(x/90*np.pi)\n",
    "\n",
    "df = pd.read_csv(\"s_result_all_1000.csv\", index_col=0)\n",
    "X = df.drop(['0','1','2','3', '4', '5', '6', '7', '8', '9', '10', '11', '12', '13', '19'],axis='columns')     # 設置輸入變量\n",
    "Y = df.loc[:, '0'].apply(sin_transform)\n",
    "Y.head()"
   ]
  },
  {
   "cell_type": "markdown",
   "id": "2c6023c3",
   "metadata": {},
   "source": [
    "### 訓練模型"
   ]
  },
  {
   "cell_type": "code",
   "execution_count": 40,
   "id": "0e07d708",
   "metadata": {},
   "outputs": [
    {
     "data": {
      "text/plain": [
       "DecisionTreeRegressor(max_depth=10)"
      ]
     },
     "execution_count": 40,
     "metadata": {},
     "output_type": "execute_result"
    }
   ],
   "source": [
    "from sklearn.tree import DecisionTreeRegressor\n",
    "from sklearn.ensemble import RandomForestRegressor\n",
    "from sklearn.ensemble import GradientBoostingRegressor\n",
    "from sklearn.ensemble import GradientBoostingClassifier\n",
    "regr = DecisionTreeRegressor(max_depth=10) #6MB\n",
    "#regr = RandomForestRegressor(max_depth=10, n_estimators=2) #155MB\n",
    "\n",
    "#regr = GradientBoostingRegressor(learning_rate= 0.2,max_depth=6,subsample=0.7,n_estimators=20)#170kB\n",
    "#regr = GradientBoostingClassifier(learning_rate= 0.2,max_depth=6,subsample=0.7,n_estimators=20)#170kB\n",
    "\n",
    "regr.fit(X, Y)"
   ]
  },
  {
   "cell_type": "markdown",
   "id": "b2f84a4a",
   "metadata": {},
   "source": [
    "### 保存模型"
   ]
  },
  {
   "cell_type": "code",
   "execution_count": 41,
   "id": "a2f09a69",
   "metadata": {},
   "outputs": [],
   "source": [
    "import pickle\n",
    "\n",
    "# Dump the trained decision tree classifier with Pickle\n",
    "decision_tree_pkl_filename = 'decision_tree_2.pkl'\n",
    "# Open the file to save as pkl file\n",
    "decision_tree_model_pkl = open(decision_tree_pkl_filename, 'wb')\n",
    "pickle.dump(regr, decision_tree_model_pkl)\n",
    "# Close the pickle instances\n",
    "decision_tree_model_pkl.close()\n"
   ]
  },
  {
   "cell_type": "code",
   "execution_count": 42,
   "id": "4120546b",
   "metadata": {},
   "outputs": [
    {
     "data": {
      "text/plain": [
       "[<matplotlib.lines.Line2D at 0x7f9cf50dd8d0>]"
      ]
     },
     "execution_count": 42,
     "metadata": {},
     "output_type": "execute_result"
    },
    {
     "data": {
      "image/png": "[encoded data removed]",
      "text/plain": [
       "<Figure size 432x288 with 1 Axes>"
      ]
     },
     "metadata": {
      "needs_background": "light"
     },
     "output_type": "display_data"
    }
   ],
   "source": [
    "import numpy as np\n",
    "import matplotlib.pyplot as plt\n",
    "import numpy as np\n",
    "#print(np.around(regr_y_result))\n",
    "plt.plot(Y[5:174])\n"
   ]
  },
  {
   "cell_type": "code",
   "execution_count": null,
   "id": "3b33849c",
   "metadata": {},
   "outputs": [],
   "source": []
  }
 ],
 "metadata": {
  "kernelspec": {
   "display_name": "conda_python3",
   "language": "python",
   "name": "conda_python3"
  },
  "language_info": {
   "codemirror_mode": {
    "name": "ipython",
    "version": 3
   },
   "file_extension": ".py",
   "mimetype": "text/x-python",
   "name": "python",
   "nbconvert_exporter": "python",
   "pygments_lexer": "ipython3",
   "version": "3.6.13"
  }
 },
 "nbformat": 4,
 "nbformat_minor": 5
}
