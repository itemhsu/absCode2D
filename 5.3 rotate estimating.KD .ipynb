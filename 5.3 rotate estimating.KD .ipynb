{
 "cells": [
  {
   "cell_type": "markdown",
   "id": "802f7844",
   "metadata": {},
   "source": [
    "### 讀入模型"
   ]
  },
  {
   "cell_type": "code",
   "execution_count": 30,
   "id": "f0217c26",
   "metadata": {},
   "outputs": [
    {
     "name": "stdout",
     "output_type": "stream",
     "text": [
      "(180, 25)\n",
      "(25, 180)\n"
     ]
    }
   ],
   "source": [
    "import pandas as pd\n",
    "import numpy as np\n",
    "from matplotlib import pyplot as plt\n",
    "\n",
    "df = pd.read_csv(\"C_batch_feature_norm.csv\", index_col=0)\n",
    "s_result_all = df.to_numpy()\n",
    "print(s_result_all.shape)\n",
    "mean_arr=s_result_all.transpose()\n",
    "print(mean_arr.shape)\n"
   ]
  },
  {
   "cell_type": "markdown",
   "id": "00c35cb2",
   "metadata": {},
   "source": [
    "### 第一次計算特徵值"
   ]
  },
  {
   "cell_type": "code",
   "execution_count": 31,
   "id": "5a606698",
   "metadata": {},
   "outputs": [
    {
     "name": "stdout",
     "output_type": "stream",
     "text": [
      "[0.99038462 0.         0.         0.         0.         0.\n",
      " 0.35774059 0.24267782 0.16527197 0.09832636 0.07531381 0.05857741\n",
      " 0.78125    0.14583333 0.0625     0.         0.         0.\n",
      " 0.81395349 0.10465116 0.06976744 0.         0.         0.        ]\n",
      "t_value= 237\n",
      "[0.9904, 0.0, 0.0, 0.0, 0.0, 0.0, 0.3577, 0.2427, 0.1653, 0.0983, 0.0753, 0.0586, 0.7812, 0.1458, 0.0625, 0.0, 0.0, 0.0, 0.814, 0.1047, 0.0698, 0.0, 0.0, 0.0]\n"
     ]
    }
   ],
   "source": [
    "from main import allFeature, create_matrices, allFeatureNorm, SSDFeature\n",
    "import cv2\n",
    "import json \n",
    "\n",
    "#pixart7920_img=\"img/2023_1_16_15_56_33_Image.bmp\" # theta=-78\n",
    "#pixart7920_img=\"img/2023_1_16_11_43_53_Image.bmp\" # theta=51\n",
    "pixart7920_img=\"img/2023_1_16_11_43_43_Image.bmp\" # theta=89\n",
    "\n",
    "arr = cv2.cvtColor(cv2.imread(pixart7920_img), cv2.COLOR_BGR2GRAY)\n",
    "\n",
    "\n",
    "t_value, y=allFeatureNorm(arr)\n",
    "print(y)\n",
    "print('t_value=',t_value)\n",
    "\n",
    "# Convert the Python list to a JSON string\n",
    "json_str = json.dumps(np.round(y,4).tolist())\n",
    "\n",
    "# Print the JSON string\n",
    "print(json_str)\n"
   ]
  },
  {
   "cell_type": "markdown",
   "id": "82061467",
   "metadata": {},
   "source": [
    "### 第一次估計角度\n",
    "* BallTree KD 搜尋最近特徵\n",
    "* crop 42x42"
   ]
  },
  {
   "cell_type": "code",
   "execution_count": 32,
   "id": "cb497a91",
   "metadata": {},
   "outputs": [
    {
     "name": "stdout",
     "output_type": "stream",
     "text": [
      "(25, 180)\n",
      "data_table.shape= (180, 24)\n",
      "round_1 最近的角度: 89\n",
      "round_1 最近角度與查詢資料的距離: 0.1345267860477524\n"
     ]
    },
    {
     "data": {
      "text/plain": [
       "<matplotlib.image.AxesImage at 0x7f4d6a049518>"
      ]
     },
     "execution_count": 32,
     "metadata": {},
     "output_type": "execute_result"
    },
    {
     "data": {
      "image/png": "[encoded data removed]",
      "text/plain": [
       "<Figure size 432x288 with 1 Axes>"
      ]
     },
     "metadata": {
      "needs_background": "light"
     },
     "output_type": "display_data"
    }
   ],
   "source": [
    "\n",
    "\n",
    "from sklearn.neighbors import BallTree\n",
    "import numpy as np\n",
    "\n",
    "# 創建一個24維度的數據表，共有180行\n",
    "data_table = np.transpose(mean_arr[1:25:])\n",
    "print(mean_arr.shape)\n",
    "print(\"data_table.shape=\",data_table.shape)\n",
    "\n",
    "# 創建一個BallTree對象，並使用數據表構建k-d tree\n",
    "tree = BallTree(data_table)\n",
    "\n",
    "\n",
    "# 使用k-d tree查找最近鄰居，返回最近鄰居的索引和距離\n",
    "distance, index = tree.query(y.reshape(1, -1), k=1)\n",
    "\n",
    "round_1_degree=index[0][0]\n",
    "round_1_cost=distance[0][0]\n",
    "\n",
    "# 打印查找到的最近鄰居的索引和距離\n",
    "print('round_1 最近的角度:', round_1_degree)\n",
    "print('round_1 最近角度與查詢資料的距離:', round_1_cost)\n",
    "\n",
    "if round_1_degree>90:\n",
    "    theta =  round_1_degree-180\n",
    "else:\n",
    "    theta=round_1_degree\n",
    "#print(\"theta=\",theta)    \n",
    "correct_challenge_1=create_matrices(arr, theta, scale=4)\n",
    "\n",
    "plt.imshow(correct_challenge_1)"
   ]
  },
  {
   "cell_type": "markdown",
   "id": "f51a3fc1",
   "metadata": {},
   "source": [
    "### 第二次計算特徵值"
   ]
  },
  {
   "cell_type": "code",
   "execution_count": 33,
   "id": "4c7a1307",
   "metadata": {},
   "outputs": [
    {
     "name": "stdout",
     "output_type": "stream",
     "text": [
      "[0.35257732 0.23917526 0.17113402 0.10927835 0.07216495 0.05360825\n",
      " 0.95575221 0.03539823 0.         0.         0.         0.\n",
      " 0.76699029 0.16504854 0.05825243 0.         0.         0.\n",
      " 0.79120879 0.13186813 0.06593407 0.         0.         0.        ]\n",
      "fine_t_value= 219\n"
     ]
    }
   ],
   "source": [
    "from main import allFeatureNorm_fine\n",
    "fine_t_value, fine_feature=allFeatureNorm_fine(correct_challenge_1)\n",
    "print(fine_feature)\n",
    "print('fine_t_value=', fine_t_value)"
   ]
  },
  {
   "cell_type": "markdown",
   "id": "3761a55e",
   "metadata": {},
   "source": [
    "### 第二次估計角度\n",
    "* BallTree KD 搜尋最近特徵\n"
   ]
  },
  {
   "cell_type": "code",
   "execution_count": 34,
   "id": "6cc63585",
   "metadata": {},
   "outputs": [
    {
     "name": "stdout",
     "output_type": "stream",
     "text": [
      "round_2 最近鄰居的索引: 4\n",
      "round_2 最近鄰居與查詢資料的距離: 0.12597068002995385\n"
     ]
    }
   ],
   "source": [
    "\n",
    "distance, index = tree.query(fine_feature.reshape(1, -1), k=1)\n",
    "round_2_degree=index[0][0]\n",
    "round_2_cost=distance[0][0]\n",
    "\n",
    "# 打印查找到的最近鄰居的索引和距離\n",
    "print('round_2 最近鄰居的索引:', round_2_degree)\n",
    "print('round_2 最近鄰居與查詢資料的距離:', round_2_cost)\n"
   ]
  },
  {
   "cell_type": "markdown",
   "id": "0ee2ea0d",
   "metadata": {},
   "source": [
    "### 旋轉判斷\n",
    "* 當第二次估計角度有明顯改善 < 0.85*round_1_cost，採用的二次的答案\n",
    "* 如果沒有明顯改善，採用的一次的答案"
   ]
  },
  {
   "cell_type": "code",
   "execution_count": 35,
   "id": "25147a27",
   "metadata": {},
   "outputs": [
    {
     "name": "stdout",
     "output_type": "stream",
     "text": [
      "theta= 89\n"
     ]
    }
   ],
   "source": [
    "if round_2_cost < 0.85*round_1_cost:\n",
    "    theta=round_2_degree+round_1_degree\n",
    "else:\n",
    "    theta =  round_1_degree\n",
    "\n",
    "if theta>90:\n",
    "    theta =  theta-180\n",
    "\n",
    "print('theta=', theta)"
   ]
  },
  {
   "cell_type": "markdown",
   "id": "d34aab7f",
   "metadata": {},
   "source": [
    "### 顯示最後旋轉圖"
   ]
  },
  {
   "cell_type": "code",
   "execution_count": 36,
   "id": "fd3c983b",
   "metadata": {
    "scrolled": true
   },
   "outputs": [
    {
     "name": "stdout",
     "output_type": "stream",
     "text": [
      "(42, 42)\n"
     ]
    },
    {
     "data": {
      "text/plain": [
       "<matplotlib.image.AxesImage at 0x7f4d6a032b00>"
      ]
     },
     "execution_count": 36,
     "metadata": {},
     "output_type": "execute_result"
    },
    {
     "data": {
      "image/png": "[encoded data removed]",
      "text/plain": [
       "<Figure size 432x288 with 1 Axes>"
      ]
     },
     "metadata": {
      "needs_background": "light"
     },
     "output_type": "display_data"
    }
   ],
   "source": [
    "correct_challenge=create_matrices(arr, theta, scale=4)\n",
    "\n",
    "print(correct_challenge.shape)\n",
    "plt.imshow(correct_challenge)\n"
   ]
  },
  {
   "cell_type": "markdown",
   "id": "480f5caa",
   "metadata": {},
   "source": [
    "### 9. 偵測pilot"
   ]
  },
  {
   "cell_type": "code",
   "execution_count": 37,
   "id": "950f9a95",
   "metadata": {},
   "outputs": [
    {
     "name": "stdout",
     "output_type": "stream",
     "text": [
      "v_sum= [2 2 0 0 0 0 0 0 0 0 0 2 2 2 2 2 2 2 1 0 0 0 0 0 0 0 0 2 2 2 2 2]\n",
      "v_sum[v_i]= 2\n",
      "v_i= 11\n",
      "h_i= 0\n"
     ]
    },
    {
     "data": {
      "text/plain": [
       "<matplotlib.image.AxesImage at 0x7f4d69f9ad68>"
      ]
     },
     "execution_count": 37,
     "metadata": {},
     "output_type": "execute_result"
    },
    {
     "data": {
      "image/png": "[encoded data removed]",
      "text/plain": [
       "<Figure size 432x216 with 4 Axes>"
      ]
     },
     "metadata": {
      "needs_background": "light"
     },
     "output_type": "display_data"
    }
   ],
   "source": [
    "idDebug=True\n",
    "isPlot = True\n",
    "\n",
    "def pilotDetect(img, fine_t_value):\n",
    "\n",
    "    bigger=img>=fine_t_value\n",
    "\n",
    "    deep=10\n",
    "    w=img.shape[1]-deep\n",
    "    bigger_tmp=bigger[:,0:w]\n",
    "\n",
    "\n",
    "    for i in range(deep):\n",
    "        bigger_tmp=np.logical_and(bigger_tmp ,bigger[:,i:w+i])\n",
    "\n",
    "    #plt.imshow(bigger_tmp)\n",
    "    v_sum=np.sum(bigger_tmp,axis=0)\n",
    "    #h_sum=np.sum(bigger_tmp,axis=1)\n",
    "    \n",
    "    #h_i=np.argmax(h_sum)\n",
    "    \n",
    "    #先找到零的部分\n",
    "    for v_i_start in range(len(v_sum)):\n",
    "        if v_sum[v_i_start]==0: break\n",
    "    #在找之後非零的部分\n",
    "    for v_i in range(v_i_start,len(v_sum)):\n",
    "        if v_sum[v_i]>0: break\n",
    "            \n",
    "    h_i=np.argmax(bigger_tmp[v_i])\n",
    "    if idDebug:\n",
    "        print('v_sum=',v_sum)\n",
    "        print('v_sum[v_i]=',v_sum[v_i])\n",
    "        print(\"v_i=\",v_i)\n",
    "        print(\"h_i=\",h_i)\n",
    "        \n",
    "    if isPlot:\n",
    "        plt.subplots(1,4,figsize=(6,3)) \n",
    "        plt.subplot(141)\n",
    "        plt.imshow(bigger_tmp)\n",
    "        plt.subplot(142)\n",
    "        plt.imshow(bigger[:,v_i+1:v_i+16+1])\n",
    "        plt.subplot(143)\n",
    "        plt.imshow(img[:,v_i+1:v_i+16+1])        \n",
    "        plt.subplot(144)\n",
    "        plt.imshow(img[:,v_i+1:v_i+16+1])\n",
    "    #return img[:,v_i+1:v_i+16+1]\n",
    "    return v_i,h_i\n",
    "\n",
    "\n",
    "v_i,h_i=pilotDetect(correct_challenge, fine_t_value)\n",
    "cropImg=correct_challenge[:,v_i+1:v_i+16+1]\n",
    "cropImg_roll=np.roll(cropImg, -1, axis=1)\n",
    "cropImg_roll=cropImg\n",
    "\n",
    "#cropImg_180=cropImg*0\n",
    "#rotate_180(cropImg, 42, 16, cropImg_180)\n",
    "\n",
    "plt.imshow(cropImg_roll)\n",
    "#cropImg_roll=cropImg_180"
   ]
  },
  {
   "cell_type": "markdown",
   "id": "6523196b",
   "metadata": {},
   "source": [
    "### 10. 峰值檢出"
   ]
  },
  {
   "cell_type": "code",
   "execution_count": 38,
   "id": "959e3415",
   "metadata": {},
   "outputs": [
    {
     "name": "stdout",
     "output_type": "stream",
     "text": [
      "_peak_mean*1.125= 3441.0375\n",
      "_peaks= [ 3  7 11 15 18 22 26 29 33 37]\n",
      "mask= [ True  True  True  True  True  True  True  True  True  True]\n",
      "peaks= [3, 7, 11, 15, 18, 22, 29, 33, 37]\n"
     ]
    },
    {
     "data": {
      "image/png": "[encoded data removed]",
      "text/plain": [
       "<Figure size 432x288 with 1 Axes>"
      ]
     },
     "metadata": {
      "needs_background": "light"
     },
     "output_type": "display_data"
    }
   ],
   "source": [
    "import scipy.signal\n",
    "cropImg_roll_sum=np.sum(cropImg_roll,axis=1)\n",
    "_peaks, _ = scipy.signal.find_peaks(cropImg_roll_sum)\n",
    "_peaks_mean = np.mean(cropImg_roll_sum[_peaks])\n",
    "\n",
    "mask = np.invert(np.isin(_peaks, [h_i-1,h_i,h_i+1]))\n",
    "peaks=[]\n",
    "#1.125 是經驗值，超過這個平均值，就認為是pilot\n",
    "for i in range(len(_peaks)):\n",
    "    #print(cropImg_roll_sum[_peaks[i]])\n",
    "    #print(_peaks_mean*1.25)\n",
    "    if cropImg_roll_sum[_peaks[i]] < _peaks_mean*1.125:\n",
    "        peaks.append(_peaks[i])\n",
    "#peaks=_peaks[mask]\n",
    "#_zoom=_peaks[-1]-_peaks[0]\n",
    "#zoom=_zoom/(len(_peaks)-1)/4\n",
    "#wave_length=np.round(zoom*16)\n",
    "#wave_length\n",
    "\n",
    "if isPlot:\n",
    "    plt.plot(cropImg_roll_sum)\n",
    "    \n",
    "if idDebug:\n",
    "    print(\"_peak_mean*1.125=\",_peaks_mean*1.125)\n",
    "    print(\"_peaks=\",_peaks)\n",
    "    print(\"mask=\",mask)\n",
    "    print(\"peaks=\",peaks)"
   ]
  },
  {
   "cell_type": "markdown",
   "id": "a1b34d54",
   "metadata": {},
   "source": [
    "\n",
    "### 11. fft 變換"
   ]
  },
  {
   "cell_type": "code",
   "execution_count": 39,
   "id": "59df85df",
   "metadata": {},
   "outputs": [
    {
     "data": {
      "image/png": "[encoded data removed]",
      "text/plain": [
       "<Figure size 432x288 with 1 Axes>"
      ]
     },
     "metadata": {
      "needs_background": "light"
     },
     "output_type": "display_data"
    }
   ],
   "source": [
    "plt.imshow(cropImg_roll)\n",
    "\n",
    "cropImg_roll_fft=np.fft.fft(cropImg_roll[peaks])\n",
    "cropImg_roll_fft_ang=np.arctan2(cropImg_roll_fft.real,cropImg_roll_fft.imag)*180/np.pi\n",
    "if isPlot:\n",
    "    plt.imshow(cropImg_roll_fft_ang)"
   ]
  },
  {
   "cell_type": "markdown",
   "id": "8284c4df",
   "metadata": {},
   "source": []
  }
 ],
 "metadata": {
  "kernelspec": {
   "display_name": "conda_python3",
   "language": "python",
   "name": "conda_python3"
  },
  "language_info": {
   "codemirror_mode": {
    "name": "ipython",
    "version": 3
   },
   "file_extension": ".py",
   "mimetype": "text/x-python",
   "name": "python",
   "nbconvert_exporter": "python",
   "pygments_lexer": "ipython3",
   "version": "3.6.13"
  }
 },
 "nbformat": 4,
 "nbformat_minor": 5
}
