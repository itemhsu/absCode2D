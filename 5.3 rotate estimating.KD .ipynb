{
 "cells": [
  {
   "cell_type": "markdown",
   "id": "8bf70122",
   "metadata": {},
   "source": [
    "### 讀入模型"
   ]
  },
  {
   "cell_type": "code",
   "execution_count": 24,
   "id": "3223b6aa",
   "metadata": {},
   "outputs": [
    {
     "name": "stdout",
     "output_type": "stream",
     "text": [
      "(180, 25)\n",
      "(25, 180)\n"
     ]
    }
   ],
   "source": [
    "import pandas as pd\n",
    "import numpy as np\n",
    "from matplotlib import pyplot as plt\n",
    "\n",
    "df = pd.read_csv(\"C_batch_feature_norm.csv\", index_col=0)\n",
    "s_result_all = df.to_numpy()\n",
    "print(s_result_all.shape)\n",
    "mean_arr=s_result_all.transpose()\n",
    "print(mean_arr.shape)\n"
   ]
  },
  {
   "cell_type": "markdown",
   "id": "821757b2",
   "metadata": {},
   "source": [
    "### 計算特徵值"
   ]
  },
  {
   "cell_type": "code",
   "execution_count": 25,
   "id": "29079c4b",
   "metadata": {},
   "outputs": [
    {
     "name": "stdout",
     "output_type": "stream",
     "text": [
      "[0.74137931 0.2183908  0.02298851 0.01149425 0.         0.\n",
      " 0.65384615 0.25961538 0.04807692 0.02403846 0.00961538 0.\n",
      " 0.453125   0.23828125 0.10546875 0.078125   0.06640625 0.0546875\n",
      " 0.96296296 0.01851852 0.         0.         0.         0.        ]\n"
     ]
    }
   ],
   "source": [
    "from main import allFeature, create_matrices, allFeatureNorm, SSDFeature\n",
    "import cv2\n",
    "\n",
    "#pixart7920_img=\"img/2023_1_16_15_56_33_Image.bmp\" # theta=-78\n",
    "pixart7920_img=\"img/2023_1_16_11_43_53_Image.bmp\" # theta=51\n",
    "#pixart7920_img=\"img/2023_1_16_11_43_43_Image.bmp\" # theta=89\n",
    "\n",
    "arr = cv2.cvtColor(cv2.imread(pixart7920_img), cv2.COLOR_BGR2GRAY)\n",
    "y=allFeatureNorm(arr)\n",
    "print(y)"
   ]
  },
  {
   "cell_type": "markdown",
   "id": "ca1c6315",
   "metadata": {},
   "source": [
    "### 估計角度\n",
    "#### KD 搜尋最近特徵\n",
    "#### crop 42x42"
   ]
  },
  {
   "cell_type": "code",
   "execution_count": 26,
   "id": "8cd5b0f4",
   "metadata": {},
   "outputs": [
    {
     "name": "stdout",
     "output_type": "stream",
     "text": [
      "(25, 180)\n",
      "(180, 24)\n",
      "最近鄰居的索引: [51]\n",
      "最近鄰居與查詢資料的距離: [0.0493702]\n",
      "theta= [51]\n",
      "(42, 42)\n"
     ]
    },
    {
     "data": {
      "text/plain": [
       "<matplotlib.image.AxesImage at 0x7f3eb7d26cc0>"
      ]
     },
     "execution_count": 26,
     "metadata": {},
     "output_type": "execute_result"
    },
    {
     "data": {
      "image/png": "[encoded data removed]",
      "text/plain": [
       "<Figure size 432x288 with 1 Axes>"
      ]
     },
     "metadata": {
      "needs_background": "light"
     },
     "output_type": "display_data"
    }
   ],
   "source": [
    "from sklearn.neighbors import BallTree\n",
    "import numpy as np\n",
    "\n",
    "# 創建一個24維度的數據表，共有180行\n",
    "data_table = np.transpose(mean_arr[1:25:])\n",
    "print(mean_arr.shape)\n",
    "print(data_table.shape)\n",
    "\n",
    "# 創建一個BallTree對象，並使用數據表構建k-d tree\n",
    "tree = BallTree(data_table)\n",
    "\n",
    "\n",
    "# 使用k-d tree查找最近鄰居，返回最近鄰居的索引和距離\n",
    "distance, index = tree.query(y.reshape(1, -1), k=1)\n",
    "\n",
    "# 打印查找到的最近鄰居的索引和距離\n",
    "print('最近鄰居的索引:', index[0])\n",
    "print('最近鄰居與查詢資料的距離:', distance[0])\n",
    "minIdx=index[0]\n",
    "\n",
    "if minIdx>90:\n",
    "    theta =  minIdx-180\n",
    "else:\n",
    "    theta=minIdx\n",
    "print(\"theta=\",theta)    \n",
    "correct_challenge=create_matrices(arr, theta, scale=4)\n",
    "\n",
    "print(correct_challenge.shape)\n",
    "plt.imshow(correct_challenge)"
   ]
  },
  {
   "cell_type": "code",
   "execution_count": null,
   "id": "13944f86",
   "metadata": {},
   "outputs": [],
   "source": []
  },
  {
   "cell_type": "code",
   "execution_count": null,
   "id": "f6c00664",
   "metadata": {},
   "outputs": [],
   "source": []
  },
  {
   "cell_type": "code",
   "execution_count": null,
   "id": "a74e546e",
   "metadata": {},
   "outputs": [],
   "source": []
  }
 ],
 "metadata": {
  "kernelspec": {
   "display_name": "conda_python3",
   "language": "python",
   "name": "conda_python3"
  },
  "language_info": {
   "codemirror_mode": {
    "name": "ipython",
    "version": 3
   },
   "file_extension": ".py",
   "mimetype": "text/x-python",
   "name": "python",
   "nbconvert_exporter": "python",
   "pygments_lexer": "ipython3",
   "version": "3.6.13"
  }
 },
 "nbformat": 4,
 "nbformat_minor": 5
}
