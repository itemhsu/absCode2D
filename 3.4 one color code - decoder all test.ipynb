{
 "cells": [
  {
   "cell_type": "markdown",
   "id": "2ec25e1f",
   "metadata": {},
   "source": [
    "### 產生特徵向量函式庫 copy from notebook 1\n"
   ]
  },
  {
   "cell_type": "code",
   "execution_count": 40,
   "id": "4d7cd667",
   "metadata": {},
   "outputs": [],
   "source": [
    "import numpy as np\n",
    "import cv2\n",
    "import math\n",
    "from scipy import ndimage\n",
    "from matplotlib import pyplot as plt\n",
    "import pandas as pd\n",
    "\n",
    "\n",
    "isPlot=False\n",
    "idDebug=False\n",
    "STEP=1 #每次多少角度\n",
    "granularity=int(180/STEP)\n",
    "\n",
    "def imgWrapA(orgImg,a):\n",
    "    img_a = ndimage.rotate(orgImg, a, reshape=False)    \n",
    "    return img_a\n",
    "        \n",
    "def test_gen(a, x,y,wh):\n",
    "    bigMap=\"img/map_2d.png\"\n",
    "    orgImg = cv2.cvtColor(cv2.imread(bigMap), cv2.COLOR_BGR2RGB)\n",
    "    #print('orgImg shape=',orgImg.shape)\n",
    "\n",
    "    #Question\n",
    "\n",
    "    orgImg_crop128=orgImg[y-wh: y + wh, x-wh: x + wh ]\n",
    "    if isPlot: plt.imshow(orgImg_crop128)\n",
    "    orgImg_crop128_a33=imgWrapA(orgImg_crop128,a)\n",
    "    #print('imgWrapA shape=',orgImg_crop128_a33.shape)\n",
    "    orgImg_crop128_a33_crop=orgImg_crop128_a33[int(wh/4): int(3*wh/4), int(wh/4): int(3*wh/4)]\n",
    "\n",
    "    return orgImg_crop128_a33_crop\n",
    "\n",
    "\n",
    "\n",
    "def sizeStatistic(img, type=0):\n",
    "    bigger=img>127\n",
    "    #print(bigger)\n",
    "    #print(bigger.shape)\n",
    "    bigger_tmp=bigger[0:26,6:26]\n",
    "    bigger_tmp_2=bigger[0:26,7:27]\n",
    "    sizeStatistic_result=np.zeros(8)\n",
    "    for i in range(6):\n",
    "        if type==0:\n",
    "            bigger_tmp=np.logical_and(bigger_tmp ,bigger[i:26+i,6:26])\n",
    "        elif type==1:\n",
    "            bigger_tmp=np.logical_and(bigger_tmp ,bigger[0:26,6+i:26+i])\n",
    "        elif type==2:\n",
    "            bigger_tmp=np.logical_and(bigger_tmp ,bigger[0+i:26+i,6+i:26+i])\n",
    "            bigger_tmp_2=np.logical_and(bigger_tmp_2 ,bigger[0+i:26+i,7+i:27+i])\n",
    "        elif type==3:\n",
    "            bigger_tmp=np.logical_and(bigger_tmp ,bigger[0+i:26+i,6-i:26-i])\n",
    "            bigger_tmp_2=np.logical_and(bigger_tmp_2 ,bigger[0+i:26+i,7-i:27-i])\n",
    "\n",
    "        sizeStatistic_result[i]=sum(sum(bigger_tmp))\n",
    "        if type in [2,3]:  sizeStatistic_result[i] += sum(sum(bigger_tmp_2))\n",
    "        if sizeStatistic_result[i]==0: break\n",
    "    return sizeStatistic_result\n",
    "\n",
    "def getFeature(sizeStatisticResult):\n",
    "    s_result_diff=np.abs(np.diff(sizeStatisticResult[0:7]))\n",
    "    s_result_diff_norm=s_result_diff/sum(s_result_diff)\n",
    "    s_result_all=s_result_diff_norm#計算差值 加上normilize\n",
    "    s_result_all=s_result_all+1 #避免出現 1, 準備log\n",
    "    s_result_all=np.log(s_result_all)#log\n",
    "    s_result_all=np.around(s_result_all, decimals=4)\n",
    "    return s_result_all\n",
    "\n",
    "#由圖檔得特徵向量，未知旋轉角度，應用時候可採用   \n",
    "def getFeatures(monoImg):\n",
    "    Features=np.zeros(24)\n",
    "    for i in range(4):\n",
    "        sizeStatisticResult=sizeStatistic(monoImg, i) \n",
    "        #print(i,sizeStatisticResult)\n",
    "        Features[i*6:6+i*6]=getFeature(sizeStatisticResult)\n",
    "    return Features\n",
    "\n",
    "def getYandFeatures(a, monoImg):\n",
    "    s_result_all=np.zeros(1+24)\n",
    "    s_result_all[0]=a\n",
    "    s_result_all[1:25]=getFeatures(monoImg)\n",
    "    return s_result_all\n",
    "\n",
    "#給定座標及轉角 可以得到一個特徵向量    \n",
    "def genFeatureVector(a,x,y):\n",
    "    challenge=test_gen(a,x,y,64);\n",
    "    s_result_all=getYandFeatures(a, challenge[:,:,2])\n",
    "\n",
    "    return s_result_all\n",
    "\n"
   ]
  },
  {
   "cell_type": "markdown",
   "id": "3f358a70",
   "metadata": {},
   "source": [
    "### 生成測試數據及特徵向量"
   ]
  },
  {
   "cell_type": "code",
   "execution_count": 41,
   "id": "171ce256",
   "metadata": {},
   "outputs": [
    {
     "data": {
      "text/plain": [
       "<matplotlib.image.AxesImage at 0x7fe218fc4208>"
      ]
     },
     "execution_count": 41,
     "metadata": {},
     "output_type": "execute_result"
    },
    {
     "data": {
      "image/png": "[encoded data removed]",
      "text/plain": [
       "<Figure size 432x288 with 1 Axes>"
      ]
     },
     "metadata": {
      "needs_background": "light"
     },
     "output_type": "display_data"
    }
   ],
   "source": [
    "a=36\n",
    "x=210\n",
    "y=150\n",
    "\n",
    "challenge=test_gen(a,x,y,64)\n",
    "plt.imshow(challenge)"
   ]
  },
  {
   "cell_type": "code",
   "execution_count": 42,
   "id": "ffaea2d1",
   "metadata": {},
   "outputs": [
    {
     "name": "stdout",
     "output_type": "stream",
     "text": [
      "[0.3978 0.3397 0.0876 0.0076 0.0076 0.     0.3505 0.3122 0.1354 0.0448\n",
      " 0.0076 0.0152 0.5499 0.2306 0.0075 0.     0.     0.     0.3903 0.2542\n",
      " 0.1531 0.0149 0.0075 0.0441]\n",
      "[0.2306 0.0075 0.     0.     0.     0.2542 0.1531 0.0149 0.0075 0.0441]\n",
      "[0.3397 0.0876 0.0076 0.0076 0.     0.3122 0.1354 0.0448 0.0076 0.0152]\n"
     ]
    }
   ],
   "source": [
    "s_result_all=getFeatures(challenge[:,:,2])\n",
    "\n",
    "print(s_result_all)\n",
    "X_test_sin=s_result_all[[13,14,15,16,17,19,20,21,22,23]]\n",
    "print(X_test_sin)\n",
    "X_test_cos=s_result_all[[1,2,3,4,5,7,8,9,10,11]]\n",
    "print(X_test_cos)"
   ]
  },
  {
   "cell_type": "markdown",
   "id": "7e8780c9",
   "metadata": {},
   "source": [
    "### 載入模型"
   ]
  },
  {
   "cell_type": "code",
   "execution_count": 43,
   "id": "00daf029",
   "metadata": {},
   "outputs": [],
   "source": [
    "import pickle\n",
    "\n",
    "# load the trained decision tree classifier from Pickle\n",
    "decision_tree_pkl_filename1 = 'decision_tree_1.pkl'\n",
    "# Open the file to load as pkl file\n",
    "with open(file=decision_tree_pkl_filename1, mode='rb') as f:\n",
    "    regr1=pickle.load(f)\n",
    "2# load the trained decision tree classifier from Pickle\n",
    "decision_tree_pkl_filename2 = 'decision_tree_2.pkl'\n",
    "# Open the file to load as pkl file\n",
    "with open(file=decision_tree_pkl_filename2, mode='rb') as f:\n",
    "    regr2=pickle.load(f)\n"
   ]
  },
  {
   "cell_type": "markdown",
   "id": "58eb41ab",
   "metadata": {},
   "source": [
    "### 測試"
   ]
  },
  {
   "cell_type": "code",
   "execution_count": 44,
   "id": "81a7f6b4",
   "metadata": {},
   "outputs": [
    {
     "name": "stdout",
     "output_type": "stream",
     "text": [
      "[0.33109478]\n",
      "[0.91490084]\n"
     ]
    }
   ],
   "source": [
    "\n",
    "\n",
    "regr_y_result1 = regr1.predict(X_test_cos.reshape(1, -1))\n",
    "regr_y_result2 = regr2.predict(X_test_sin.reshape(1, -1))\n",
    "\n",
    "print(regr_y_result1)\n",
    "print(regr_y_result2)\n"
   ]
  },
  {
   "cell_type": "code",
   "execution_count": 45,
   "id": "14e9928a",
   "metadata": {},
   "outputs": [
    {
     "name": "stdout",
     "output_type": "stream",
     "text": [
      "35.05262181347546\n"
     ]
    }
   ],
   "source": [
    "\n",
    "theta=np.arctan2(regr_y_result2,regr_y_result1)*90/np.pi\n",
    "theta=theta[0]\n",
    "print(theta)\n"
   ]
  },
  {
   "cell_type": "code",
   "execution_count": 46,
   "id": "c9570e99",
   "metadata": {},
   "outputs": [
    {
     "data": {
      "text/plain": [
       "<matplotlib.image.AxesImage at 0x7fe218f28a90>"
      ]
     },
     "execution_count": 46,
     "metadata": {},
     "output_type": "execute_result"
    },
    {
     "data": {
      "image/png": "[encoded data removed]",
      "text/plain": [
       "<Figure size 432x288 with 1 Axes>"
      ]
     },
     "metadata": {
      "needs_background": "light"
     },
     "output_type": "display_data"
    }
   ],
   "source": [
    "correct_challenge=imgWrapA(challenge,-theta)\n",
    "plt.imshow(correct_challenge)"
   ]
  },
  {
   "cell_type": "code",
   "execution_count": null,
   "id": "110c0668",
   "metadata": {},
   "outputs": [],
   "source": []
  }
 ],
 "metadata": {
  "kernelspec": {
   "display_name": "conda_python3",
   "language": "python",
   "name": "conda_python3"
  },
  "language_info": {
   "codemirror_mode": {
    "name": "ipython",
    "version": 3
   },
   "file_extension": ".py",
   "mimetype": "text/x-python",
   "name": "python",
   "nbconvert_exporter": "python",
   "pygments_lexer": "ipython3",
   "version": "3.6.13"
  }
 },
 "nbformat": 4,
 "nbformat_minor": 5
}
